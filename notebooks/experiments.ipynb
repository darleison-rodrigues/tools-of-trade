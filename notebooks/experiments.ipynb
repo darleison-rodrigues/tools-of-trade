{
 "cells": [
  {
   "cell_type": "markdown",
   "id": "93054caa",
   "metadata": {},
   "source": [
    "# Experiments and Ad-Hoc Testing\n",
    "\n",
    "This notebook is a sandbox for quick experiments, testing small code snippets, or trying out new ideas without affecting the main workflow notebooks.\n",
    "\n",
    "## Objective:\n",
    "- Test new LLM prompts.\n",
    "- Experiment with different RAG query parameters.\n",
    "- Try out new tool definitions or agent logic.\n",
    "- Debug specific issues.\n",
    "\n",
    "## Instructions:\n",
    "- Use this notebook for any temporary or exploratory code.\n",
    "- Feel free to create new cells and delete them as needed.\n"
   ]
  }
 ],
 "metadata": {
  "language_info": {
   "name": "python"
  }
 },
 "nbformat": 4,
 "nbformat_minor": 5
}
