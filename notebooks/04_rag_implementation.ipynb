{
 "cells": [
  {
   "cell_type": "markdown",
   "id": "77ef0ae1",
   "metadata": {},
   "source": [
    "# 04 - RAG Implementation (Knowledge Retrieval)\n",
    "\n",
    "This notebook focuses on building and testing your Retrieval-Augmented Generation (RAG) system.\n",
    "\n",
    "## Objective:\n",
    "- Prepare text chunks from your extracted documents (`data/processed/extracted_raw_documents.jsonl`).\n",
    "- Embed these chunks using a Sentence Transformer model.\n",
    "- Index the embeddings and chunks into ChromaDB.\n",
    "- Test the retrieval mechanism with sample queries.\n",
    "\n",
    "## Instructions:\n",
    "1.  **Ensure extracted data is ready:** Make sure `data/processed/extracted_raw_documents.jsonl` exists.\n",
    "2.  **Run `prepare_rag_chunks.py`:**\n",
    "    ```bash\n",
    "    python scripts/prepare_rag_chunks.py\n",
    "    ```\n",
    "3.  **Run `build_vector_db.py`:**\n",
    "    ```bash\n",
    "    python scripts/build_vector_db.py\n",
    "    ```\n",
    "4.  **Test retrieval:** Use the `scripts/rag_inference.py` script or implement a simple retrieval test here.\n",
    "\n",
    "## Code (Example of what you'd put here):\n",
    "\n",
    "```python\n",
    "# import sys\n",
    "# sys.path.append('scripts')\n",
    "# from prepare_rag_chunks import prepare_chunks_for_embedding\n",
    "# from build_vector_db import build_vector_database\n",
    "# from rag_inference import run_rag_inference\n",
    "\n",
    "# # Step 1: Prepare RAG Chunks\n",
    "# print(\"Preparing RAG chunks...\")\n",
    "# prepared_chunks = prepare_chunks_for_embedding()\n",
    "# if prepared_chunks:\n",
    "#     print(f\"Sample chunk: {prepared_chunks[0]['content'][:200]}...\")\n",
    "# else:\n",
    "#     print(\"No chunks prepared.\")\n",
    "\n",
    "# # Step 2: Build Vector Database\n",
    "# print(\"\\nBuilding vector database...\")\n",
    "# build_vector_database()\n",
    "\n",
    "# # Step 3: Test RAG Inference\n",
    "# print(\"\\nTesting RAG inference...\")\n",
    "# query = \"What is the Fibonacci sequence?\"\n",
    "# run_rag_inference(query, n_results=3)\n",
    "\n",
    "# query_code = \"How does the calculate_fibonacci function work?\"\n",
    "# run_rag_inference(query_code, n_results=3)\n"
   ]
  }
 ],
 "metadata": {
  "language_info": {
   "name": "python"
  }
 },
 "nbformat": 4,
 "nbformat_minor": 5
}
